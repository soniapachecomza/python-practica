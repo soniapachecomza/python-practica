{
 "cells": [
  {
   "cell_type": "code",
   "execution_count": 3,
   "metadata": {},
   "outputs": [],
   "source": [
    "# -*- coding: utf-8 -*-\n",
    "\n",
    "import turtle\n",
    "\n",
    "def main():\n",
    "    window = turtle.Screen()\n",
    "    dave = turtle.Turtle()\n",
    "\n",
    "    make_square(dave)\n",
    "\n",
    "    turtle.mainloop()\n",
    "\n",
    "def make_square(dave):\n",
    "    length = int(input('Tamaño de cuadrado: '))\n",
    "\n",
    "    for i in range(4):\n",
    "        make_line_and_turn(dave, length)\n",
    "\n",
    "def make_line_and_turn(dave, length):\n",
    "    dave.forward(length)\n",
    "    dave.left(90)\n",
    "\n",
    "if __name__=='__main__':\n",
    "    main()\n"
   ]
  }
 ],
 "metadata": {
  "kernelspec": {
   "display_name": "Python 3.9.13 64-bit (windows store)",
   "language": "python",
   "name": "python3"
  },
  "language_info": {
   "codemirror_mode": {
    "name": "ipython",
    "version": 3
   },
   "file_extension": ".py",
   "mimetype": "text/x-python",
   "name": "python",
   "nbconvert_exporter": "python",
   "pygments_lexer": "ipython3",
   "version": "3.9.13"
  },
  "orig_nbformat": 4,
  "vscode": {
   "interpreter": {
    "hash": "7c56ba8e1f4fe4f8778c7d99fcd6ca237f13881b3b4a472b3e839adfad645684"
   }
  }
 },
 "nbformat": 4,
 "nbformat_minor": 2
}
