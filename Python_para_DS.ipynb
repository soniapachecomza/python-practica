{
  "nbformat": 4,
  "nbformat_minor": 0,
  "metadata": {
    "colab": {
      "provenance": [],
      "authorship_tag": "ABX9TyMQl3owXX7Nv8YaGYYO71Mj",
      "include_colab_link": true
    },
    "kernelspec": {
      "name": "python3",
      "display_name": "Python 3"
    },
    "language_info": {
      "name": "python"
    }
  },
  "cells": [
    {
      "cell_type": "markdown",
      "metadata": {
        "id": "view-in-github",
        "colab_type": "text"
      },
      "source": [
        "<a href=\"https://colab.research.google.com/github/soniapachecomza/python-practica/blob/main/Python_para_DS.ipynb\" target=\"_parent\"><img src=\"https://colab.research.google.com/assets/colab-badge.svg\" alt=\"Open In Colab\"/></a>"
      ]
    },
    {
      "cell_type": "markdown",
      "source": [
        "#**Python para DS-Introducción**\n",
        "\n",
        "\n"
      ],
      "metadata": {
        "id": "0RcGwS5NG35J"
      }
    },
    {
      "cell_type": "code",
      "source": [
        "nombre = 'Sonia'"
      ],
      "metadata": {
        "id": "JaO3_YNZTueu"
      },
      "execution_count": 9,
      "outputs": []
    },
    {
      "cell_type": "code",
      "source": [
        "edad = '41'"
      ],
      "metadata": {
        "id": "As70ru8UTyhQ"
      },
      "execution_count": 8,
      "outputs": []
    },
    {
      "cell_type": "code",
      "execution_count": 10,
      "metadata": {
        "colab": {
          "base_uri": "https://localhost:8080/"
        },
        "id": "YPfHIU4izXfG",
        "outputId": "c014086c-e089-45e3-b50d-d1c9d050924f"
      },
      "outputs": [
        {
          "output_type": "stream",
          "name": "stdout",
          "text": [
            "El nombre es Sonia y su edad es 41 años\n"
          ]
        }
      ],
      "source": [
        "print(f'El nombre es {nombre} y su edad es {edad} años')"
      ]
    },
    {
      "cell_type": "code",
      "source": [
        "def saludar():\n",
        "  nombre = input('Escribe tu nombre: ')\n",
        "  print(f'Hola {nombre} sea bienvenido/a!!!')"
      ],
      "metadata": {
        "id": "dCepOqtKUkJD"
      },
      "execution_count": 13,
      "outputs": []
    },
    {
      "cell_type": "code",
      "source": [
        "saludar()"
      ],
      "metadata": {
        "colab": {
          "base_uri": "https://localhost:8080/"
        },
        "id": "NWWfAJgrVZsJ",
        "outputId": "cb8f3933-96d7-4676-c1b1-4e8d50d1fd34"
      },
      "execution_count": 14,
      "outputs": [
        {
          "output_type": "stream",
          "name": "stdout",
          "text": [
            "Escribe tu nombre: Sonia\n",
            "Hola Sonia sea bienvenido!!!\n"
          ]
        }
      ]
    },
    {
      "cell_type": "code",
      "source": [
        "def nombre_completo():\n",
        "   primer_nombre = input('¿Cuál es tu primer nombre? ')\n",
        "   apellido = input('¿Cuál es tu apellido? ')\n",
        "   nombre_completo = primer_nombre + ' ' + apellido\n",
        "   print(nombre_completo)"
      ],
      "metadata": {
        "id": "UOVpjs33WDI9"
      },
      "execution_count": 15,
      "outputs": []
    },
    {
      "cell_type": "code",
      "source": [
        "nombre_completo()"
      ],
      "metadata": {
        "colab": {
          "base_uri": "https://localhost:8080/"
        },
        "id": "C6bG59XDWJ9C",
        "outputId": "3dfb8e70-2005-43de-d259-4b77e3468186"
      },
      "execution_count": 16,
      "outputs": [
        {
          "output_type": "stream",
          "name": "stdout",
          "text": [
            "¿Cuál es tu primer nombre? Sonia\n",
            "¿Cuál es tu apellido? Pacheco\n",
            "Sonia Pacheco\n"
          ]
        }
      ]
    },
    {
      "cell_type": "code",
      "source": [
        "nombre = 'Sonia'"
      ],
      "metadata": {
        "id": "JWAHW6z1Yg1j"
      },
      "execution_count": 17,
      "outputs": []
    },
    {
      "cell_type": "code",
      "source": [
        "def saludar_con_parametros(nombre):\n",
        "  print(f'Hola {nombre} bienvenido/a')"
      ],
      "metadata": {
        "id": "2UTyTVgeYkkr"
      },
      "execution_count": 18,
      "outputs": []
    },
    {
      "cell_type": "code",
      "source": [
        "saludar_con_parametros(nombre)"
      ],
      "metadata": {
        "colab": {
          "base_uri": "https://localhost:8080/"
        },
        "id": "oqXKkL3HZB9Y",
        "outputId": "dd089edf-626e-4f8b-8512-66334322375e"
      },
      "execution_count": 21,
      "outputs": [
        {
          "output_type": "stream",
          "name": "stdout",
          "text": [
            "Hola Sonia bienvenido/a\n"
          ]
        }
      ]
    },
    {
      "cell_type": "markdown",
      "source": [
        "**#Condicional**"
      ],
      "metadata": {
        "id": "LoJGYH_8eDz3"
      }
    },
    {
      "cell_type": "code",
      "source": [
        "edad = 10\n",
        "\n",
        "def verificar_si_puede_conducir(edad):\n",
        "   if edad >= 18:\n",
        "     print(\"Usted tiene edad suficiente para conducir\")\n",
        "   else:\n",
        "      print(\"Usted No tiene edad suficiente para conducir\")\n",
        "      \n",
        "verificar_si_puede_conducir(edad)"
      ],
      "metadata": {
        "colab": {
          "base_uri": "https://localhost:8080/"
        },
        "id": "RUgH8zvbZvAv",
        "outputId": "d4d7efbd-bd97-4b77-a52e-8666cae41139"
      },
      "execution_count": 29,
      "outputs": [
        {
          "output_type": "stream",
          "name": "stdout",
          "text": [
            "Usted No tiene edad suficiente para conducir\n"
          ]
        }
      ]
    },
    {
      "cell_type": "code",
      "source": [
        "def clasificar_nps(nota):\n",
        "  if nota <= 6:\n",
        "    print('El alumno es considerado Desaprobado')\n",
        "  else:\n",
        "    if nota <= 8: \n",
        "      print('El alumno es considerado Aprobado')\n",
        "    else:\n",
        "      print('El alumno es considerado Excelente')\n",
        "\n",
        "clasificar_nps(9)\n"
      ],
      "metadata": {
        "colab": {
          "base_uri": "https://localhost:8080/"
        },
        "id": "jrjVy-SccrVZ",
        "outputId": "363bf778-593d-4944-9aa0-e183d0185363"
      },
      "execution_count": 31,
      "outputs": [
        {
          "output_type": "stream",
          "name": "stdout",
          "text": [
            "El alumno es considerado Excelente\n"
          ]
        }
      ]
    },
    {
      "cell_type": "markdown",
      "source": [
        "**#Condicional sin parámetro y conversión de tipo de datos**"
      ],
      "metadata": {
        "id": "yGpKHaOmhnCo"
      }
    },
    {
      "cell_type": "code",
      "source": [
        "def verificar_si_puede_conducir_sin_parametro():\n",
        "  edad = input('Escribe tu edad:  ')\n",
        "  edad = int(edad)\n",
        "if edad >= 18:\n",
        "     print(\"Usted tiene edad suficiente para conducir\")\n",
        "else:\n",
        "      print(\"Usted No tiene edad suficiente para conducir\")\n",
        "      \n",
        "verificar_si_puede_conducir_sin_parametro()"
      ],
      "metadata": {
        "colab": {
          "base_uri": "https://localhost:8080/"
        },
        "id": "Fpz3ORcEegCp",
        "outputId": "b6fa5636-5524-4e43-e635-45355b0557b7"
      },
      "execution_count": 45,
      "outputs": [
        {
          "name": "stdout",
          "output_type": "stream",
          "text": [
            "Usted No tiene edad suficiente para conducir\n",
            "Escribe tu edad:  45\n"
          ]
        }
      ]
    },
    {
      "cell_type": "code",
      "source": [
        "def permiso_de_conducir():\n",
        " edad = input('¿Cuál es tu edad? ')\n",
        "if edad >= 18:\n",
        "   print('Ya tienes edad suficiente para obtener permiso de conducir')\n",
        "else:\n",
        "   tiempo = 18 - edad\n",
        "   print(f'Tranquilo, faltan {tiempo} año(s) para obtener permiso de conducir')\n",
        "\n",
        "permiso_de_conducir()"
      ],
      "metadata": {
        "colab": {
          "base_uri": "https://localhost:8080/"
        },
        "id": "dz2FpSTPiCnI",
        "outputId": "5e8a0c02-cfdf-49f6-baa3-dc6369010e9d"
      },
      "execution_count": 56,
      "outputs": [
        {
          "name": "stdout",
          "output_type": "stream",
          "text": [
            "Tranquilo, faltan 8 año(s) para obtener permiso de conducir\n",
            "¿Cuál es tu edad? 7\n"
          ]
        }
      ]
    },
    {
      "cell_type": "markdown",
      "source": [
        "Bucles"
      ],
      "metadata": {
        "id": "_SctLonD0J1P"
      }
    },
    {
      "cell_type": "code",
      "source": [
        "edades = [18,15,12,45,50]\n",
        "\n",
        "def verificar_si_puede_conducir(edad):\n",
        "  if edad >= 18:\n",
        "    print(\"Usted tiene edad suficiente para conducir\")\n",
        "  else:\n",
        "    print(\"Usted No tiene edad suficiente para conducir\")\n",
        "\n",
        "for edad in edades:\n",
        "  verificar_si_puede_conducir(edad)"
      ],
      "metadata": {
        "colab": {
          "base_uri": "https://localhost:8080/"
        },
        "id": "MDeNge_h0NPW",
        "outputId": "45e2a2fa-c975-498b-a0dd-b2026fc849f2"
      },
      "execution_count": 57,
      "outputs": [
        {
          "output_type": "stream",
          "name": "stdout",
          "text": [
            "Usted tiene edad suficiente para conducir\n",
            "Usted No tiene edad suficiente para conducir\n",
            "Usted No tiene edad suficiente para conducir\n",
            "Usted tiene edad suficiente para conducir\n",
            "Usted tiene edad suficiente para conducir\n"
          ]
        }
      ]
    },
    {
      "cell_type": "code",
      "source": [
        "edades = [18,15,12,45,50]\n",
        "\n",
        "def verificar_si_puede_conducir_con_bucle(edades):\n",
        "  for edad in edades:\n",
        "    if edad >= 18:\n",
        "      print(\"Usted tiene edad suficiente para conducir\")\n",
        "    else:\n",
        "      print(\"Usted No tiene edad suficiente para conducir\")\n",
        "\n",
        "verificar_si_puede_conducir_con_bucle(edades)"
      ],
      "metadata": {
        "colab": {
          "base_uri": "https://localhost:8080/"
        },
        "id": "IceYCiuA2GfR",
        "outputId": "fbab803e-ab43-4530-8312-da84904909cf"
      },
      "execution_count": 60,
      "outputs": [
        {
          "output_type": "stream",
          "name": "stdout",
          "text": [
            "Usted tiene edad suficiente para conducir\n",
            "Usted No tiene edad suficiente para conducir\n",
            "Usted No tiene edad suficiente para conducir\n",
            "Usted tiene edad suficiente para conducir\n",
            "Usted tiene edad suficiente para conducir\n"
          ]
        }
      ]
    },
    {
      "cell_type": "markdown",
      "source": [
        "#Booleano"
      ],
      "metadata": {
        "id": "XqAgmT5j4LhI"
      }
    },
    {
      "cell_type": "code",
      "source": [
        "verificaciones = []\n",
        "edades = [13,15,20]\n",
        "\n",
        "def verificar_si_puede_conducir_bool(verificaciones,edades):\n",
        "  for edad in edades:\n",
        "    if edad >= 18:\n",
        "      verificaciones.append(True)\n",
        "    else:\n",
        "      verificaciones.append(False)\n",
        "  for verificacion in verificaciones:\n",
        "    if verificacion == True:\n",
        "      print('Usted tiene edad suficiente para conducir')\n",
        "    else:\n",
        "      print(\"Usted NO tiene edad suficiente para conducir\")\n",
        "\n",
        "verificar_si_puede_conducir_bool(verificaciones,edades)"
      ],
      "metadata": {
        "colab": {
          "base_uri": "https://localhost:8080/"
        },
        "id": "SPiyo41N45Yg",
        "outputId": "30ffa999-b698-4001-cae5-7e16b35e1a5b"
      },
      "execution_count": 105,
      "outputs": [
        {
          "output_type": "stream",
          "name": "stdout",
          "text": [
            "Usted NO tiene edad suficiente para conducir\n",
            "Usted NO tiene edad suficiente para conducir\n",
            "Usted tiene edad suficiente para conducir\n"
          ]
        }
      ]
    },
    {
      "cell_type": "code",
      "source": [
        "verificaciones"
      ],
      "metadata": {
        "colab": {
          "base_uri": "https://localhost:8080/"
        },
        "id": "mb_gD0PT6ZTw",
        "outputId": "18f43c16-4bed-4b36-9762-fd16654eac6b"
      },
      "execution_count": 106,
      "outputs": [
        {
          "output_type": "execute_result",
          "data": {
            "text/plain": [
              "[False, False, True]"
            ]
          },
          "metadata": {},
          "execution_count": 106
        }
      ]
    },
    {
      "cell_type": "code",
      "source": [
        "a=2\n",
        "\n",
        "if a < 2:\n",
        " a = a + 1\n",
        "else:\n",
        " a = a + 2\n",
        "if a < 4:\n",
        " a = a - 4\n",
        "else:\n",
        " a = a + 6\n",
        "\n",
        "a"
      ],
      "metadata": {
        "colab": {
          "base_uri": "https://localhost:8080/"
        },
        "id": "Td_hKc5y90Dr",
        "outputId": "83504d0e-d38c-40dc-e50a-81723f9ae027"
      },
      "execution_count": 93,
      "outputs": [
        {
          "output_type": "execute_result",
          "data": {
            "text/plain": [
              "10"
            ]
          },
          "metadata": {},
          "execution_count": 93
        }
      ]
    },
    {
      "cell_type": "markdown",
      "source": [
        "#Lista mixta"
      ],
      "metadata": {
        "id": "6wQJDUs_Cm3R"
      }
    },
    {
      "cell_type": "code",
      "source": [
        "persona = ['Sonia',41, True,'Argentina']"
      ],
      "metadata": {
        "id": "ZaObeHH1Cj-Y"
      },
      "execution_count": 102,
      "outputs": []
    },
    {
      "cell_type": "code",
      "source": [
        "persona"
      ],
      "metadata": {
        "colab": {
          "base_uri": "https://localhost:8080/"
        },
        "id": "AxRDI7FxC2L_",
        "outputId": "f643ea82-d75a-4916-8819-c08bcb64a1b5"
      },
      "execution_count": 103,
      "outputs": [
        {
          "output_type": "execute_result",
          "data": {
            "text/plain": [
              "['Sonia', 41, True, 'Argentina']"
            ]
          },
          "metadata": {},
          "execution_count": 103
        }
      ]
    },
    {
      "cell_type": "code",
      "source": [
        "for elemento in persona:\n",
        "  print(f'El elemento {elemento} de la lista es del tipo', type(elemento))"
      ],
      "metadata": {
        "colab": {
          "base_uri": "https://localhost:8080/"
        },
        "id": "ceMA7cFxDoXq",
        "outputId": "74ce44dd-ff10-47f6-d9c8-e5878b4ce03a"
      },
      "execution_count": 104,
      "outputs": [
        {
          "output_type": "stream",
          "name": "stdout",
          "text": [
            "El elemento Sonia de la lista es del tipo <class 'str'>\n",
            "El elemento 41 de la lista es del tipo <class 'int'>\n",
            "El elemento True de la lista es del tipo <class 'bool'>\n",
            "El elemento Argentina de la lista es del tipo <class 'str'>\n"
          ]
        }
      ]
    },
    {
      "cell_type": "markdown",
      "source": [
        "#Importando una Biblioteca"
      ],
      "metadata": {
        "id": "8-A6knRUIOab"
      }
    },
    {
      "cell_type": "code",
      "source": [
        "from random import randrange, seed"
      ],
      "metadata": {
        "id": "x_r66KuVIS0c"
      },
      "execution_count": 121,
      "outputs": []
    },
    {
      "cell_type": "code",
      "source": [
        "randrange(0,11)"
      ],
      "metadata": {
        "colab": {
          "base_uri": "https://localhost:8080/"
        },
        "id": "7va1FpmoI0xm",
        "outputId": "4abd6984-de3b-46be-d537-04d1b033e1c5"
      },
      "execution_count": 122,
      "outputs": [
        {
          "output_type": "execute_result",
          "data": {
            "text/plain": [
              "7"
            ]
          },
          "metadata": {},
          "execution_count": 122
        }
      ]
    },
    {
      "cell_type": "code",
      "source": [
        "notas_matematicas = []"
      ],
      "metadata": {
        "id": "rO3pZHheJfs2"
      },
      "execution_count": 109,
      "outputs": []
    },
    {
      "cell_type": "code",
      "source": [
        "notas_matematicas.append(randrange(0,11))"
      ],
      "metadata": {
        "id": "G6StXC34JlTx"
      },
      "execution_count": 110,
      "outputs": []
    },
    {
      "cell_type": "code",
      "source": [
        "notas_matematicas"
      ],
      "metadata": {
        "colab": {
          "base_uri": "https://localhost:8080/"
        },
        "id": "sHqH1d_4Ju0m",
        "outputId": "0da02891-887a-4564-f866-b9ca0bde84b7"
      },
      "execution_count": 113,
      "outputs": [
        {
          "output_type": "execute_result",
          "data": {
            "text/plain": [
              "[1]"
            ]
          },
          "metadata": {},
          "execution_count": 113
        }
      ]
    },
    {
      "cell_type": "code",
      "source": [
        "notas_matematicas = []\n",
        "seed(8)\n",
        "for notas in range(6):\n",
        "  notas_matematicas.append(randrange(0,11))"
      ],
      "metadata": {
        "id": "towuT8kJKDJN"
      },
      "execution_count": 123,
      "outputs": []
    },
    {
      "cell_type": "code",
      "source": [
        "notas_matematicas"
      ],
      "metadata": {
        "colab": {
          "base_uri": "https://localhost:8080/"
        },
        "id": "c-WxdtrFKTvL",
        "outputId": "be0f02c7-62fe-49bd-8f39-fd42ab188850"
      },
      "execution_count": 124,
      "outputs": [
        {
          "output_type": "execute_result",
          "data": {
            "text/plain": [
              "[3, 5, 6, 2, 3, 0]"
            ]
          },
          "metadata": {},
          "execution_count": 124
        }
      ]
    },
    {
      "cell_type": "code",
      "source": [
        "len(notas_matematicas)"
      ],
      "metadata": {
        "colab": {
          "base_uri": "https://localhost:8080/"
        },
        "id": "Z9L0mghBKv3j",
        "outputId": "b704a94e-b9ba-4e0c-bf46-44eb3604b8a6"
      },
      "execution_count": 120,
      "outputs": [
        {
          "output_type": "execute_result",
          "data": {
            "text/plain": [
              "6"
            ]
          },
          "metadata": {},
          "execution_count": 120
        }
      ]
    },
    {
      "cell_type": "markdown",
      "source": [
        "#Biblioteca Matplotlib"
      ],
      "metadata": {
        "id": "bIgAEip5MMZc"
      }
    },
    {
      "cell_type": "code",
      "source": [
        "import matplotlib.pyplot as plt"
      ],
      "metadata": {
        "id": "c2i-R5mFMSqu"
      },
      "execution_count": 130,
      "outputs": []
    },
    {
      "cell_type": "code",
      "source": [
        "list(range(1,7))"
      ],
      "metadata": {
        "colab": {
          "base_uri": "https://localhost:8080/"
        },
        "id": "rSJ-Xkb1M0L8",
        "outputId": "1e9c2862-e927-4483-e686-42877151e9d9"
      },
      "execution_count": 132,
      "outputs": [
        {
          "output_type": "execute_result",
          "data": {
            "text/plain": [
              "[1, 2, 3, 4, 5, 6]"
            ]
          },
          "metadata": {},
          "execution_count": 132
        }
      ]
    },
    {
      "cell_type": "code",
      "source": [
        "x = list(range(1,7))\n",
        "y = notas_matematicas\n",
        "\n",
        "plt.plot(x,y, marker = '*')\n",
        "plt.title('Gráfico de las notas de Matemáticas')\n",
        "plt.xlabel('Pruebas')\n",
        "plt.ylabel('Notas')\n",
        "plt.show()"
      ],
      "metadata": {
        "colab": {
          "base_uri": "https://localhost:8080/",
          "height": 295
        },
        "id": "dPNtjG34M8_b",
        "outputId": "9691bfc8-96b9-4a6e-c920-cbc1615c3dd1"
      },
      "execution_count": 139,
      "outputs": [
        {
          "output_type": "display_data",
          "data": {
            "text/plain": [
              "<Figure size 432x288 with 1 Axes>"
            ],
            "image/png": "[encoded data removed]"
          },
          "metadata": {
            "needs_background": "light"
          }
        }
      ]
    },
    {
      "cell_type": "code",
      "source": [
        "for nota in notas:\n",
        " x = list(range(1, 10))\n",
        " y = nota\n",
        " plt.plot(x, y, marker='o')\n",
        " plt.xlabel('Exámenes')\n",
        " plt.ylabel('Notas')\n",
        " plt.title(nota[0])\n",
        " plt.show()"
      ],
      "metadata": {
        "colab": {
          "base_uri": "https://localhost:8080/",
          "height": 851
        },
        "id": "BXLeb_5VQB9T",
        "outputId": "d268d656-26b7-4c77-b677-26114b11dd47"
      },
      "execution_count": 142,
      "outputs": [
        {
          "output_type": "display_data",
          "data": {
            "text/plain": [
              "<Figure size 432x288 with 1 Axes>"
            ],
            "image/png": "[encoded data removed]"
          },
          "metadata": {
            "needs_background": "light"
          }
        },
        {
          "output_type": "display_data",
          "data": {
            "text/plain": [
              "<Figure size 432x288 with 1 Axes>"
            ],
            "image/png": "[encoded data removed]"
          },
          "metadata": {
            "needs_background": "light"
          }
        },
        {
          "output_type": "display_data",
          "data": {
            "text/plain": [
              "<Figure size 432x288 with 1 Axes>"
            ],
            "image/png": "[encoded data removed]"
          },
          "metadata": {
            "needs_background": "light"
          }
        }
      ]
    },
    {
      "cell_type": "code",
      "source": [
        "for nota in notas:\n",
        " x = list(range(1, 9))\n",
        " y = nota[1:]\n",
        " plt.plot(x, y, marker='o')\n",
        " plt.xlabel('Exámenes')\n",
        " plt.ylabel('Notas')\n",
        " plt.show()"
      ],
      "metadata": {
        "colab": {
          "base_uri": "https://localhost:8080/",
          "height": 803
        },
        "id": "Ap9uppMZQY_D",
        "outputId": "1b786d20-e037-49f1-bfe9-f4ef08ffb9ba"
      },
      "execution_count": 143,
      "outputs": [
        {
          "output_type": "display_data",
          "data": {
            "text/plain": [
              "<Figure size 432x288 with 1 Axes>"
            ],
            "image/png": "[encoded data removed]"
          },
          "metadata": {
            "needs_background": "light"
          }
        },
        {
          "output_type": "display_data",
          "data": {
            "text/plain": [
              "<Figure size 432x288 with 1 Axes>"
            ],
            "image/png": "[encoded data removed]"
          },
          "metadata": {
            "needs_background": "light"
          }
        },
        {
          "output_type": "display_data",
          "data": {
            "text/plain": [
              "<Figure size 432x288 with 1 Axes>"
            ],
            "image/png": "[encoded data removed]"
          },
          "metadata": {
            "needs_background": "light"
          }
        }
      ]
    },
    {
      "cell_type": "code",
      "source": [
        "for nota in notas:\n",
        " x = list(range(1, 9))\n",
        " y = nota[1:]\n",
        " plt.plot(x, y, marker='o')\n",
        " plt.xlabel('Exámenes')\n",
        " plt.ylabel('Notas')\n",
        " plt.title(nota[0])\n",
        " plt.show()"
      ],
      "metadata": {
        "colab": {
          "base_uri": "https://localhost:8080/",
          "height": 851
        },
        "id": "IFghE9QwQiGO",
        "outputId": "add7a189-3247-43e6-ed73-83fc8021b316"
      },
      "execution_count": 144,
      "outputs": [
        {
          "output_type": "display_data",
          "data": {
            "text/plain": [
              "<Figure size 432x288 with 1 Axes>"
            ],
            "image/png": "[encoded data removed]"
          },
          "metadata": {
            "needs_background": "light"
          }
        },
        {
          "output_type": "display_data",
          "data": {
            "text/plain": [
              "<Figure size 432x288 with 1 Axes>"
            ],
            "image/png": "[encoded data removed]"
          },
          "metadata": {
            "needs_background": "light"
          }
        },
        {
          "output_type": "display_data",
          "data": {
            "text/plain": [
              "<Figure size 432x288 with 1 Axes>"
            ],
            "image/png": "[encoded data removed]"
          },
          "metadata": {
            "needs_background": "light"
          }
        }
      ]
    }
  ]
}